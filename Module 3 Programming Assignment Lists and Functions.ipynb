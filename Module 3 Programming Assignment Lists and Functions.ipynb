{
 "cells": [
  {
   "cell_type": "code",
   "execution_count": null,
   "metadata": {},
   "outputs": [],
   "source": [
    "7.1\n",
    "#Create a list of years from your birth year to the year of your fifth birthday:\n",
    "\n",
    "birth_year = 1983  # My birth year\n",
    "years_list = [birth_year + i for i in range(6)]  # List from birth year to age 5\n",
    "print(years_list)  # Output: [1983, 1984, 1985, 1986, 1987, 1988]\n",
    "\n",
    "\n",
    "\n"
   ]
  },
  {
   "cell_type": "code",
   "execution_count": null,
   "metadata": {},
   "outputs": [],
   "source": [
    "7.2\n",
    "#In which year was your third birthday?\n",
    "\n",
    "third_birthday_year = years_list[3]  # Index 3 = third birthday year (I was 0 in 1983)\n",
    "print(third_birthday_year)  # Output: 1986\n"
   ]
  },
  {
   "cell_type": "code",
   "execution_count": null,
   "metadata": {},
   "outputs": [],
   "source": [
    "\n",
    "7.3\n",
    "\n",
    "#In which year were you the oldest?\n",
    "\n",
    "oldest_year = years_list[-1]  # Last year = year I turned 5\n",
    "print(oldest_year)  # Output: 1988"
   ]
  },
  {
   "cell_type": "code",
   "execution_count": null,
   "metadata": {},
   "outputs": [],
   "source": [
    "7.4\n",
    "\n",
    "#Make a list with the strings:\n",
    "things = [\"mozzarella\", \"cinderella\", \"salmonella\"] #cheese, Person, Disease\n",
    "print(things)"
   ]
  },
  {
   "cell_type": "code",
   "execution_count": null,
   "metadata": {},
   "outputs": [],
   "source": [
    "7.5\n",
    "\n",
    "#Capitalize the element that refers to a person:\n",
    "things[1] = things[1].capitalize()\n",
    "print(things)"
   ]
  },
  {
   "cell_type": "code",
   "execution_count": null,
   "metadata": {},
   "outputs": [],
   "source": [
    "7.6\n",
    "\n",
    "#Make the cheesy element all uppercase:\n",
    "things[0] = things[0].upper()\n",
    "print(things)"
   ]
  },
  {
   "cell_type": "code",
   "execution_count": null,
   "metadata": {},
   "outputs": [],
   "source": [
    "7.7\n",
    "\n",
    "#Delete the disease element:\n",
    "things.remove(\"salmonella\")  # Remove the disease\n",
    "print(things)  # Output: ['MOZZARELLA', 'Cinderella']"
   ]
  },
  {
   "cell_type": "code",
   "execution_count": null,
   "metadata": {},
   "outputs": [],
   "source": [
    "9.1\n",
    "\n",
    "def good():\n",
    "    # Return a list of good characters\n",
    "    return ['Harry', 'Ron', 'Hermione']\n",
    "\n",
    "print(good())  # Output: ['Harry', 'Ron', 'Hermione']"
   ]
  },
  {
   "cell_type": "code",
   "execution_count": null,
   "metadata": {},
   "outputs": [],
   "source": [
    "9.2\n",
    "\n",
    "def get_odds():\n",
    "    # Yield odd numbers from 0 to 9\n",
    "    for number in range(10):\n",
    "        if number % 2 != 0:\n",
    "            yield number\n",
    "\n",
    "# Print the third odd number\n",
    "count = 0\n",
    "for odd in get_odds():\n",
    "    count += 1\n",
    "    if count == 3:\n",
    "        print(odd)  # Output: 5\n",
    "        break\n"
   ]
  }
 ],
 "metadata": {
  "kernelspec": {
   "display_name": "Python 3",
   "language": "python",
   "name": "python3"
  },
  "language_info": {
   "codemirror_mode": {
    "name": "ipython",
    "version": 3
   },
   "file_extension": ".py",
   "mimetype": "text/x-python",
   "name": "python",
   "nbconvert_exporter": "python",
   "pygments_lexer": "ipython3",
   "version": "3.13.2"
  }
 },
 "nbformat": 4,
 "nbformat_minor": 2
}
