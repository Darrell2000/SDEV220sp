{
 "cells": [
  {
   "cell_type": "markdown",
   "id": "d770ebd6",
   "metadata": {},
   "source": [
    "# Darrell Davis\n",
    "# Module 4 Programming Assignment - Modules and Databases\n",
    "# 4/13/2025"
   ]
  },
  {
   "cell_type": "code",
   "execution_count": 2,
   "id": "d30a59df",
   "metadata": {},
   "outputs": [],
   "source": [
    "# zoo.py\n",
    "\n",
    "def hours():\n",
    "    print(\"open 9-5 daily\")"
   ]
  },
  {
   "cell_type": "markdown",
   "id": "ee30c5ea",
   "metadata": {},
   "source": [
    "import zoo\n",
    "zoo.hours()"
   ]
  },
  {
   "cell_type": "code",
   "execution_count": null,
   "id": "11b89c68",
   "metadata": {},
   "outputs": [],
   "source": [
    "import zoo as menagerie\n",
    "menagerie.hours()"
   ]
  },
  {
   "cell_type": "markdown",
   "id": "3636f062",
   "metadata": {},
   "source": [
    "# ouput\n",
    "Open 9-5 daily"
   ]
  },
  {
   "cell_type": "code",
   "execution_count": null,
   "id": "c104f723",
   "metadata": {},
   "outputs": [],
   "source": [
    "# Connect to the database\n",
    "engine = create_engine('sqlite:///books.db')\n",
    "\n",
    "# Reflect the existing database\n",
    "metadata = MetaData()\n",
    "metadata.reflect(bind=engine)\n",
    "\n",
    "# Access the book table\n",
    "book = metadata.tables['book']\n",
    "\n",
    "# Create a select query\n",
    "query = select(book.c.title).order_by(book.c.title)\n",
    "\n",
    "# Execute the query\n",
    "with engine.connect() as connection:\n",
    "    result = connection.execute(query)\n",
    "    for row in result:\n",
    "        print(row.title)"
   ]
  }
 ],
 "metadata": {
  "kernelspec": {
   "display_name": "Python 3",
   "language": "python",
   "name": "python3"
  },
  "language_info": {
   "codemirror_mode": {
    "name": "ipython",
    "version": 3
   },
   "file_extension": ".py",
   "mimetype": "text/x-python",
   "name": "python",
   "nbconvert_exporter": "python",
   "pygments_lexer": "ipython3",
   "version": "3.12.8"
  }
 },
 "nbformat": 4,
 "nbformat_minor": 5
}
